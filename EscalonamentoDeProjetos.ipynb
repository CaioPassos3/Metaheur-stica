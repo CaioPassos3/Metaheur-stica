{
  "nbformat": 4,
  "nbformat_minor": 0,
  "metadata": {
    "colab": {
      "provenance": [],
      "authorship_tag": "ABX9TyOb8XFqKqBeQfXaTAAdLWWG",
      "include_colab_link": true
    },
    "kernelspec": {
      "name": "python3",
      "display_name": "Python 3"
    },
    "language_info": {
      "name": "python"
    }
  },
  "cells": [
    {
      "cell_type": "markdown",
      "metadata": {
        "id": "view-in-github",
        "colab_type": "text"
      },
      "source": [
        "<a href=\"https://colab.research.google.com/github/CaioPassos3/Metaheuristica/blob/main/EscalonamentoDeProjetos.ipynb\" target=\"_parent\"><img src=\"https://colab.research.google.com/assets/colab-badge.svg\" alt=\"Open In Colab\"/></a>"
      ]
    },
    {
      "cell_type": "markdown",
      "source": [
        "Questão 1"
      ],
      "metadata": {
        "id": "o8eFL2Ca9seM"
      }
    },
    {
      "cell_type": "code",
      "execution_count": 2,
      "metadata": {
        "colab": {
          "base_uri": "https://localhost:8080/"
        },
        "id": "seLYd1369lGD",
        "outputId": "69688b83-7877-4ff9-a1c7-ecaab2b13be1"
      },
      "outputs": [
        {
          "output_type": "stream",
          "name": "stdout",
          "text": [
            "Melhor solução encontrada:\n",
            "Tarefa 5 - Tempo: 2\n",
            "Tarefa 2 - Tempo: 3\n",
            "Tarefa 1 - Tempo: 5\n",
            "Tarefa 4 - Tempo: 6\n",
            "Tarefa 3 - Tempo: 8\n"
          ]
        }
      ],
      "source": [
        "import random\n",
        "\n",
        "def grasp_alternative(tasks, iterations=100):\n",
        "    # GRASP com critério guloso alternativo baseado no menor tempo de execução.\n",
        "\n",
        "    def greedy_criterion(task):\n",
        "        return task['time']\n",
        "\n",
        "    best_solution = None\n",
        "    best_cost = float('inf')\n",
        "\n",
        "    for _ in range(iterations):\n",
        "        # Construção da solução inicial\n",
        "        remaining_tasks = tasks[:]\n",
        "        solution = []\n",
        "\n",
        "        while remaining_tasks:\n",
        "            # Aplicação do critério guloso\n",
        "            min_time = min(task['time'] for task in remaining_tasks)\n",
        "            rcl = [task for task in remaining_tasks if task['time'] <= min_time]\n",
        "\n",
        "            # Seleção aleatória da RCL\n",
        "            selected_task = random.choice(rcl)\n",
        "            solution.append(selected_task)\n",
        "            remaining_tasks.remove(selected_task)\n",
        "\n",
        "        # Avaliação da solução\n",
        "        solution_cost = sum(task['time'] for task in solution)  # Exemplo: soma dos tempos\n",
        "\n",
        "        # Atualiza a melhor solução encontrada\n",
        "        if solution_cost < best_cost:\n",
        "            best_solution = solution\n",
        "            best_cost = solution_cost\n",
        "\n",
        "    return best_solution\n",
        "\n",
        "\n",
        "# Exemplo de uso\n",
        "tasks = [\n",
        "    {'id': 1, 'time': 5},\n",
        "    {'id': 2, 'time': 3},\n",
        "    {'id': 3, 'time': 8},\n",
        "    {'id': 4, 'time': 6},\n",
        "    {'id': 5, 'time': 2},\n",
        "]\n",
        "\n",
        "best_solution = grasp_alternative(tasks)\n",
        "print(\"Melhor solução encontrada:\")\n",
        "for task in best_solution:\n",
        "    print(f\"Tarefa {task['id']} - Tempo: {task['time']}\")\n"
      ]
    },
    {
      "cell_type": "markdown",
      "source": [
        "Questão 2"
      ],
      "metadata": {
        "id": "cGFiYcbs_QD2"
      }
    },
    {
      "cell_type": "code",
      "source": [
        "def grasp(tasks, iterations=100, criterion=\"cost\"):\n",
        "    # GRASP genérico que aceita diferentes critérios de priorização.\n",
        "\n",
        "    def greedy_criterion(task):\n",
        "        return task[criterion]\n",
        "\n",
        "    best_solution = None\n",
        "    best_metric = float('inf')\n",
        "\n",
        "    for _ in range(iterations):\n",
        "        # Construção da solução inicial\n",
        "        remaining_tasks = tasks[:]\n",
        "        solution = []\n",
        "\n",
        "        while remaining_tasks:\n",
        "            # Determinar o menor valor do critério escolhido\n",
        "            min_value = min(greedy_criterion(task) for task in remaining_tasks)\n",
        "\n",
        "            # Criar a RCL (Restricted Candidate List)\n",
        "            rcl = [task for task in remaining_tasks if greedy_criterion(task) <= min_value]\n",
        "\n",
        "            # Seleção aleatória de uma tarefa da RCL\n",
        "            selected_task = random.choice(rcl)\n",
        "            solution.append(selected_task)\n",
        "            remaining_tasks.remove(selected_task)\n",
        "\n",
        "        # Avaliação da solução (soma do critério escolhido)\n",
        "        solution_metric = sum(greedy_criterion(task) for task in solution)\n",
        "\n",
        "        # Atualiza a melhor solução encontrada\n",
        "        if solution_metric < best_metric:\n",
        "            best_solution = solution\n",
        "            best_metric = solution_metric\n",
        "\n",
        "    return best_solution, best_metric\n",
        "\n",
        "\n",
        "def compare_grasp_criteria(tasks, iterations=100):\n",
        "  #  Compara os critérios GRASP (menor custo e menor tempo) sob as mesmas condições.\n",
        "\n",
        "    results = {}\n",
        "\n",
        "    # Critério 1: Menor custo\n",
        "    solution_cost, metric_cost = grasp(tasks, iterations=iterations, criterion=\"cost\")\n",
        "    results['menor_custo'] = {\n",
        "        'melhor_solucao': solution_cost,\n",
        "        'metrica_total': metric_cost\n",
        "    }\n",
        "\n",
        "    # Critério 2: Menor tempo\n",
        "    solution_time, metric_time = grasp(tasks, iterations=iterations, criterion=\"time\")\n",
        "    results['menor_tempo'] = {\n",
        "        'melhor_solucao': solution_time,\n",
        "        'metrica_total': metric_time\n",
        "    }\n",
        "\n",
        "    return results\n",
        "\n",
        "\n",
        "# Exemplo de uso\n",
        "tasks = [\n",
        "    {'id': 1, 'cost': 50, 'time': 5},\n",
        "    {'id': 2, 'cost': 30, 'time': 3},\n",
        "    {'id': 3, 'cost': 80, 'time': 8},\n",
        "    {'id': 4, 'cost': 60, 'time': 6},\n",
        "    {'id': 5, 'cost': 20, 'time': 2},\n",
        "]\n",
        "\n",
        "# Comparar critérios com 100 iterações\n",
        "comparison_results = compare_grasp_criteria(tasks, iterations=100)\n",
        "\n",
        "# Exibir resultados\n",
        "print(\"Comparação dos Critérios GRASP:\")\n",
        "for criterion, result in comparison_results.items():\n",
        "    print(f\"\\nCritério: {criterion.replace('_', ' ').capitalize()}\")\n",
        "    print(\"Melhor solução encontrada:\")\n",
        "    for task in result['melhor_solucao']:\n",
        "        print(f\"Tarefa {task['id']} - Custo: {task['cost']}, Tempo: {task['time']}\")\n",
        "    print(f\"Métrica total (soma do critério): {result['metrica_total']}\")\n"
      ],
      "metadata": {
        "colab": {
          "base_uri": "https://localhost:8080/"
        },
        "id": "F6iwYRWP_RvM",
        "outputId": "31336f89-76e5-4878-a3b4-bf96f16b653c"
      },
      "execution_count": 4,
      "outputs": [
        {
          "output_type": "stream",
          "name": "stdout",
          "text": [
            "Comparação dos Critérios GRASP:\n",
            "\n",
            "Critério: Menor custo\n",
            "Melhor solução encontrada:\n",
            "Tarefa 5 - Custo: 20, Tempo: 2\n",
            "Tarefa 2 - Custo: 30, Tempo: 3\n",
            "Tarefa 1 - Custo: 50, Tempo: 5\n",
            "Tarefa 4 - Custo: 60, Tempo: 6\n",
            "Tarefa 3 - Custo: 80, Tempo: 8\n",
            "Métrica total (soma do critério): 240\n",
            "\n",
            "Critério: Menor tempo\n",
            "Melhor solução encontrada:\n",
            "Tarefa 5 - Custo: 20, Tempo: 2\n",
            "Tarefa 2 - Custo: 30, Tempo: 3\n",
            "Tarefa 1 - Custo: 50, Tempo: 5\n",
            "Tarefa 4 - Custo: 60, Tempo: 6\n",
            "Tarefa 3 - Custo: 80, Tempo: 8\n",
            "Métrica total (soma do critério): 24\n"
          ]
        }
      ]
    }
  ]
}