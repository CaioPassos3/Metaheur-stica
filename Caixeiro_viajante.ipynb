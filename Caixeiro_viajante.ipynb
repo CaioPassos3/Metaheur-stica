{
  "nbformat": 4,
  "nbformat_minor": 0,
  "metadata": {
    "colab": {
      "provenance": [],
      "authorship_tag": "ABX9TyNBSBXgCzsGgD72rZJ284pV",
      "include_colab_link": true
    },
    "kernelspec": {
      "name": "python3",
      "display_name": "Python 3"
    },
    "language_info": {
      "name": "python"
    }
  },
  "cells": [
    {
      "cell_type": "markdown",
      "metadata": {
        "id": "view-in-github",
        "colab_type": "text"
      },
      "source": [
        "<a href=\"https://colab.research.google.com/github/CaioPassos3/Metaheuristica/blob/main/Caixeiro_viajante.ipynb\" target=\"_parent\"><img src=\"https://colab.research.google.com/assets/colab-badge.svg\" alt=\"Open In Colab\"/></a>"
      ]
    },
    {
      "cell_type": "markdown",
      "source": [
        "Questão 1"
      ],
      "metadata": {
        "id": "JIxzsKWoolXN"
      }
    },
    {
      "cell_type": "code",
      "execution_count": 4,
      "metadata": {
        "id": "Z1hlmeQJoWKm"
      },
      "outputs": [],
      "source": [
        "import random\n",
        "import numpy as np\n",
        "from time import time"
      ]
    },
    {
      "cell_type": "code",
      "source": [
        "def distancia(cidade1, cidade2, matriz_distancias):\n",
        "    #Calcula a distância entre duas cidades.\n",
        "    return matriz_distancias[cidade1][cidade2]\n",
        "\n",
        "def vmp(cidade_inicial, matriz_distancias):\n",
        "    #Implementa a heurística do vizinho mais próximo.\n",
        "    num_cidades = len(matriz_distancias)\n",
        "    visitadas = [False] * num_cidades\n",
        "    rota = [cidade_inicial]\n",
        "    visitadas[cidade_inicial] = True\n",
        "    custo_total = 0\n",
        "\n",
        "    cidade_atual = cidade_inicial\n",
        "    while len(rota) < num_cidades:\n",
        "        min_dist = float('inf')\n",
        "        proxima_cidade = -1\n",
        "        for i in range(num_cidades):\n",
        "            if not visitadas[i]:\n",
        "                dist = distancia(cidade_atual, i, matriz_distancias)\n",
        "                if dist < min_dist:\n",
        "                    min_dist = dist\n",
        "                    proxima_cidade = i\n",
        "        rota.append(proxima_cidade)\n",
        "        visitadas[proxima_cidade] = True\n",
        "        custo_total += min_dist\n",
        "        cidade_atual = proxima_cidade\n",
        "\n",
        "    return rota, custo_total\n",
        "\n",
        "def vmp_amostral(matriz_distancias, taxa_amostragem=0.1):\n",
        "    #Implementa o VMP amostral.\n",
        "    num_cidades = len(matriz_distancias)\n",
        "    num_amostras = int(num_cidades * taxa_amostragem)\n",
        "    melhor_rota = []\n",
        "    menor_custo = float('inf')\n",
        "\n",
        "    for _ in range(num_amostras):\n",
        "        cidade_inicial = random.randint(0, num_cidades - 1)\n",
        "        rota, custo = vmp(cidade_inicial, matriz_distancias)\n",
        "        if custo < menor_custo:\n",
        "            menor_custo = custo\n",
        "            melhor_rota = rota\n",
        "\n",
        "    return melhor_rota, menor_custo\n",
        "\n",
        "def vmp_completo(matriz_distancias):\n",
        "    #Implementa o VMP completo (para fins de comparação).\n",
        "    num_cidades = len(matriz_distancias)\n",
        "    melhor_rota = []\n",
        "    menor_custo = float('inf')\n",
        "\n",
        "    for i in range(num_cidades):\n",
        "        rota, custo = vmp(i, matriz_distancias)\n",
        "        if custo < menor_custo:\n",
        "            menor_custo = custo\n",
        "            melhor_rota = rota\n",
        "\n",
        "    return melhor_rota, menor_custo\n",
        "\n",
        "# Exemplo de uso\n",
        "num_cidades = 50\n",
        "matriz_distancias = np.random.rand(num_cidades, num_cidades)\n",
        "np.fill_diagonal(matriz_distancias, 0)\n",
        "\n",
        "# Medindo o tempo de execução\n",
        "start_time = time()\n",
        "melhor_rota_amostral, menor_custo_amostral = vmp_amostral(matriz_distancias)\n",
        "end_time = time()\n",
        "print(\"Tempo de execução do VMP Amostral:\", end_time - start_time)\n",
        "\n",
        "start_time = time()\n",
        "melhor_rota_completo, menor_custo_completo = vmp_completo(matriz_distancias)\n",
        "end_time = time()\n",
        "print(\"Tempo de execução do VMP Completo:\", end_time - start_time)\n",
        "\n",
        "print(\"Melhor custo amostral:\", menor_custo_amostral)\n",
        "print(\"Melhor custo completo:\", menor_custo_completo)"
      ],
      "metadata": {
        "colab": {
          "base_uri": "https://localhost:8080/"
        },
        "id": "y1evqRu4pGWP",
        "outputId": "17e63b95-cb3a-4e41-f09c-ec86fcc538be"
      },
      "execution_count": 5,
      "outputs": [
        {
          "output_type": "stream",
          "name": "stdout",
          "text": [
            "Tempo de execução do VMP Amostral: 0.006116628646850586\n",
            "Tempo de execução do VMP Completo: 0.03299212455749512\n",
            "Melhor custo amostral: 3.3400187644923482\n",
            "Melhor custo completo: 2.6757198024295237\n"
          ]
        }
      ]
    },
    {
      "cell_type": "markdown",
      "source": [
        "O VMP Amostral encontrou soluções boas, mas não achou soluções ótimas como o VMP Completo.\n",
        "O VMP Amostral é significativamente mais rápido."
      ],
      "metadata": {
        "id": "FgG1bIIHpwna"
      }
    },
    {
      "cell_type": "markdown",
      "source": [
        "Questão 2"
      ],
      "metadata": {
        "id": "Wc-iHiV3qJmY"
      }
    },
    {
      "cell_type": "code",
      "source": [
        "#import numpy as np\n",
        "#import random\n",
        "#Já importado na primeira questão"
      ],
      "metadata": {
        "id": "QFesJ4MUqL3C"
      },
      "execution_count": 6,
      "outputs": []
    },
    {
      "cell_type": "code",
      "source": [
        "def distancia(cidade1, cidade2, matriz_distancias):\n",
        "    #Calcula a distância entre duas cidades.\n",
        "    return matriz_distancias[cidade1][cidade2]\n",
        "\n",
        "def minima_adicao(matriz_distancias):\n",
        "    #Implementa a heurística de mínima adição.\n",
        "    num_cidades = len(matriz_distancias)\n",
        "    visitados = [False] * num_cidades\n",
        "    rota = [random.randint(0, num_cidades - 1)]\n",
        "    visitados[rota[0]] = True\n",
        "\n",
        "    while len(rota) < num_cidades:\n",
        "        min_custo = float('inf')\n",
        "        melhor_posicao = -1\n",
        "        melhor_cidade = -1\n",
        "        for cidade in range(num_cidades):\n",
        "            if not visitados[cidade]:\n",
        "                for posicao in range(len(rota)):\n",
        "                    custo = distancia(rota[posicao-1], cidade, matriz_distancias) + \\\n",
        "                            distancia(cidade, rota[posicao], matriz_distancias) - \\\n",
        "                            distancia(rota[posicao-1], rota[posicao], matriz_distancias)\n",
        "                    if custo < min_custo:\n",
        "                        min_custo = custo\n",
        "                        melhor_posicao = posicao\n",
        "                        melhor_cidade = cidade\n",
        "        rota.insert(melhor_posicao, melhor_cidade)\n",
        "        visitados[melhor_cidade] = True\n",
        "\n",
        "    # Adicionar a aresta de retorno à cidade inicial\n",
        "    custo_total = 0\n",
        "    for i in range(num_cidades):\n",
        "        custo_total += distancia(rota[i], rota[(i+1)%num_cidades], matriz_distancias)\n",
        "\n",
        "    return rota, custo_total\n",
        "\n",
        "# Exemplo de uso\n",
        "num_cidades = 10\n",
        "matriz_distancias = np.random.rand(num_cidades, num_cidades)\n",
        "np.fill_diagonal(matriz_distancias, 0)\n",
        "\n",
        "melhor_rota, menor_custo = minima_adicao(matriz_distancias)\n",
        "print(\"Melhor rota:\", melhor_rota)\n",
        "print(\"Menor custo:\", menor_custo)"
      ],
      "metadata": {
        "colab": {
          "base_uri": "https://localhost:8080/"
        },
        "id": "nMT6ywMzrZwc",
        "outputId": "37a9eb06-7cee-48bb-8273-3ea675b6c02a"
      },
      "execution_count": 7,
      "outputs": [
        {
          "output_type": "stream",
          "name": "stdout",
          "text": [
            "Melhor rota: [5, 6, 0, 2, 8, 9, 7, 4, 1, 3]\n",
            "Menor custo: 2.0685667547635616\n"
          ]
        }
      ]
    }
  ]
}